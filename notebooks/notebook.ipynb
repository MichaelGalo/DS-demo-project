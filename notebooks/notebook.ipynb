{
 "cells": [
  {
   "cell_type": "markdown",
   "metadata": {},
   "source": [
    "# My First ML Project"
   ]
  },
  {
   "cell_type": "markdown",
   "metadata": {},
   "source": [
    "### First we start off with some import statements that will be useful throughout the notebook."
   ]
  },
  {
   "cell_type": "code",
   "execution_count": null,
   "metadata": {},
   "outputs": [],
   "source": [
    "import pandas as pd"
   ]
  },
  {
   "cell_type": "markdown",
   "metadata": {},
   "source": [
    "### Load CSV file & Initialize DataFrame"
   ]
  },
  {
   "cell_type": "code",
   "execution_count": 21,
   "metadata": {},
   "outputs": [],
   "source": [
    "df = pd.read_csv(\"../data/delaney_solubility_with_descriptors.csv\")"
   ]
  },
  {
   "cell_type": "markdown",
   "metadata": {},
   "source": [
    "##### What we're trying to accomplish is to use all of the x-axis variables to make a prediction, which will be displayed in the y axis as (logS). "
   ]
  },
  {
   "cell_type": "markdown",
   "metadata": {},
   "source": [
    "## Data Preparation"
   ]
  },
  {
   "cell_type": "code",
   "execution_count": 25,
   "metadata": {},
   "outputs": [],
   "source": [
    "y = df['logS']\n",
    "x = df.drop('logS', axis=1)"
   ]
  },
  {
   "cell_type": "markdown",
   "metadata": {},
   "source": [
    "### Next we're looking to split the data into a training set and a testing set\n",
    "\n",
    "#### The test size being set to .2 below means that we will be using 80% of the dataset to train the model, while the remaining 20% will be used to actually test the model's predictive capabilities "
   ]
  },
  {
   "cell_type": "code",
   "execution_count": 28,
   "metadata": {},
   "outputs": [
    {
     "name": "stdout",
     "output_type": "stream",
     "text": [
      "     MolLogP    MolWt  NumRotatableBonds  AromaticProportion\n",
      "107  3.14280  112.216                5.0            0.000000\n",
      "378 -2.07850  142.070                0.0            0.000000\n",
      "529 -0.47730  168.152                0.0            0.000000\n",
      "546 -0.86740  154.125                0.0            0.000000\n",
      "320  1.62150  100.161                2.0            0.000000\n",
      "..       ...      ...                ...                 ...\n",
      "802  3.00254  250.301                1.0            0.842105\n",
      "53   2.13860   82.146                3.0            0.000000\n",
      "350  5.76304  256.348                0.0            0.900000\n",
      "79   3.89960  186.339               10.0            0.000000\n",
      "792  2.52334  310.297                3.0            0.300000\n",
      "\n",
      "[915 rows x 4 columns]\n",
      "      MolLogP    MolWt  NumRotatableBonds  AromaticProportion\n",
      "822   2.91000  172.268                7.0            0.000000\n",
      "118   7.27400  360.882                1.0            0.666667\n",
      "347   1.94040  145.161                0.0            0.909091\n",
      "1123  1.98640  119.378                0.0            0.000000\n",
      "924   1.70062  108.140                0.0            0.750000\n",
      "...       ...      ...                ...                 ...\n",
      "1114  1.76210  478.513                4.0            0.000000\n",
      "427   6.32820  276.338                0.0            1.000000\n",
      "711   0.04430  218.205                5.0            0.000000\n",
      "4     2.91890  187.375                1.0            0.000000\n",
      "948   3.56010  318.328                2.0            0.750000\n",
      "\n",
      "[229 rows x 4 columns]\n"
     ]
    }
   ],
   "source": [
    "from sklearn.model_selection import train_test_split\n",
    "\n",
    "x_train, x_test, y_train, y_test = train_test_split(x, y, test_size=0.2, random_state=100)\n",
    "\n",
    "print(x_train)\n",
    "print(x_test)"
   ]
  }
 ],
 "metadata": {
  "kernelspec": {
   "display_name": "DS-demo-project-oLiqxPVG",
   "language": "python",
   "name": "python3"
  },
  "language_info": {
   "codemirror_mode": {
    "name": "ipython",
    "version": 3
   },
   "file_extension": ".py",
   "mimetype": "text/x-python",
   "name": "python",
   "nbconvert_exporter": "python",
   "pygments_lexer": "ipython3",
   "version": "3.10.14"
  }
 },
 "nbformat": 4,
 "nbformat_minor": 2
}
