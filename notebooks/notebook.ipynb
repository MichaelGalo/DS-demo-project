{
 "cells": [
  {
   "cell_type": "code",
   "execution_count": null,
   "metadata": {},
   "outputs": [],
   "source": [
    "import pandas as pd\n",
    "import numpy as np\n",
    "import matplotlib.pyplot as plt\n",
    "import seaborn as sns"
   ]
  },
  {
   "cell_type": "code",
   "execution_count": null,
   "metadata": {},
   "outputs": [
    {
     "name": "stdout",
     "output_type": "stream",
     "text": [
      "   play_id          game_id  old_game_id home_team away_team season_type  \\\n",
      "0        1  2024_01_ARI_BUF   2024090801       BUF       ARI         REG   \n",
      "1       40  2024_01_ARI_BUF   2024090801       BUF       ARI         REG   \n",
      "2       61  2024_01_ARI_BUF   2024090801       BUF       ARI         REG   \n",
      "3       83  2024_01_ARI_BUF   2024090801       BUF       ARI         REG   \n",
      "4      108  2024_01_ARI_BUF   2024090801       BUF       ARI         REG   \n",
      "\n",
      "   week posteam posteam_type defteam  ... out_of_bounds  home_opening_kickoff  \\\n",
      "0     1     NaN          NaN     NaN  ...             0                     0   \n",
      "1     1     ARI         away     BUF  ...             0                     0   \n",
      "2     1     ARI         away     BUF  ...             0                     0   \n",
      "3     1     ARI         away     BUF  ...             0                     0   \n",
      "4     1     ARI         away     BUF  ...             0                     0   \n",
      "\n",
      "     qb_epa  xyac_epa  xyac_mean_yardage  xyac_median_yardage xyac_success  \\\n",
      "0  0.000000       NaN                NaN                  NaN          NaN   \n",
      "1  0.257819       NaN                NaN                  NaN          NaN   \n",
      "2 -0.200602       NaN                NaN                  NaN          NaN   \n",
      "3  2.028874  1.345418           9.321221                  8.0     0.509778   \n",
      "4  0.754242  0.882798           5.783560                  4.0     0.668478   \n",
      "\n",
      "    xyac_fd     xpass    pass_oe  \n",
      "0       NaN       NaN        NaN  \n",
      "1       NaN       NaN        NaN  \n",
      "2       NaN  0.456761 -45.676103  \n",
      "3  0.363807  0.576656  42.334431  \n",
      "4  0.255140  0.426443  57.355690  \n",
      "\n",
      "[5 rows x 372 columns]\n"
     ]
    }
   ],
   "source": [
    "import pandas as pd\n",
    "from pathlib import Path\n",
    "\n",
    "# Load CSV file & Initialize DataFrame\n",
    "csv_path = Path(\"../data/play_by_play_2024.csv\")\n",
    "df = pd.read_csv(csv_path, low_memory=False)\n",
    "\n",
    "# Print the data files\n",
    "print(df.head())"
   ]
  }
 ],
 "metadata": {
  "kernelspec": {
   "display_name": "DS-demo-project-oLiqxPVG",
   "language": "python",
   "name": "python3"
  },
  "language_info": {
   "codemirror_mode": {
    "name": "ipython",
    "version": 3
   },
   "file_extension": ".py",
   "mimetype": "text/x-python",
   "name": "python",
   "nbconvert_exporter": "python",
   "pygments_lexer": "ipython3",
   "version": "3.10.14"
  }
 },
 "nbformat": 4,
 "nbformat_minor": 2
}
